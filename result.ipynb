{
 "cells": [
  {
   "cell_type": "code",
   "execution_count": 3,
   "metadata": {},
   "outputs": [],
   "source": [
    "import pandas as pd\n",
    "import matplotlib.pyplot as plt\n",
    "import numpy as np\n",
    "import json\n",
    "from IPython.display import display, HTML"
   ]
  },
  {
   "cell_type": "markdown",
   "metadata": {},
   "source": [
    "## Solution A\n",
    "\n",
    "### Flow\n",
    "![alt text](images/solution_a.png \"Solution A\")\n",
    "\n",
    "### Results\n",
    "![alt text](images/result_a.png \"Result A\")"
   ]
  },
  {
   "cell_type": "markdown",
   "metadata": {},
   "source": [
    "## Solution B\n",
    "\n",
    "### Flow\n",
    "![alt text](images/solution_b.png \"Solution B\")\n",
    "\n",
    "### Results\n",
    "![alt text](images/result_b.png \"Result B\")"
   ]
  },
  {
   "cell_type": "markdown",
   "metadata": {},
   "source": [
    "## Solution C\n",
    "\n",
    "### Flow\n",
    "![alt text](images/solution_c.png \"Solution C\")\n",
    "\n",
    "### Results\n",
    "![alt text](images/result_c.png \"Result C\")"
   ]
  },
  {
   "cell_type": "markdown",
   "metadata": {},
   "source": [
    "## Solution D\n",
    "\n",
    "### Flow\n",
    "![alt text](images/solution_d.png \"Solution D\")\n",
    "\n",
    "### Results\n",
    "Solution D was not tested because api gateway uses \"StartExecution\" to start step function, and the integration needed is \"StartSyncExecution\".\n",
    "From AWS docs: Although Amazon API Gateway can start a Step Functions execution by calling StartExecution, you must call DescribeExecution to get the result.\n",
    "Ref: https://docs.aws.amazon.com/step-functions/latest/dg/tutorial-api-gateway.html"
   ]
  },
  {
   "cell_type": "markdown",
   "metadata": {},
   "source": [
    "### Comparisons and Stress Test"
   ]
  },
  {
   "cell_type": "code",
   "execution_count": 22,
   "metadata": {},
   "outputs": [
    {
     "name": "stdout",
     "output_type": "stream",
     "text": [
      "With Lambda Cold Start\n",
      "         time_elapsed\n",
      "service              \n",
      "A                5.18\n",
      "B                6.01\n",
      "C                7.66\n"
     ]
    }
   ],
   "source": [
    "print('With Lambda Cold Start')\n",
    "\n",
    "cold_df = pd.read_csv('data/result_cold.csv', index_col=0)\n",
    "\n",
    "print(cold_df.sort_values(['time_elapsed'], ascending=True))"
   ]
  },
  {
   "cell_type": "code",
   "execution_count": 23,
   "metadata": {},
   "outputs": [
    {
     "name": "stdout",
     "output_type": "stream",
     "text": [
      "Without Lambda Cold Start\n",
      "         time_elapsed\n",
      "service              \n",
      "A               4.266\n",
      "B               4.402\n",
      "C               4.693\n"
     ]
    }
   ],
   "source": [
    "print('Without Lambda Cold Start')\n",
    "\n",
    "hot_df = pd.read_csv('data/result_hot.csv', index_col=0)\n",
    "\n",
    "print(hot_df.groupby(['service']).mean().sort_values(['time_elapsed'], ascending=True))"
   ]
  }
 ],
 "metadata": {
  "interpreter": {
   "hash": "bf5062400983fc10e157635d9989af97c74605d1c9990fc9dcfac642975bfe71"
  },
  "kernelspec": {
   "display_name": "Python 3.8.9 64-bit ('.venv': venv)",
   "name": "python3"
  },
  "language_info": {
   "codemirror_mode": {
    "name": "ipython",
    "version": 3
   },
   "file_extension": ".py",
   "mimetype": "text/x-python",
   "name": "python",
   "nbconvert_exporter": "python",
   "pygments_lexer": "ipython3",
   "version": "3.8.9"
  },
  "orig_nbformat": 2
 },
 "nbformat": 4,
 "nbformat_minor": 2
}
